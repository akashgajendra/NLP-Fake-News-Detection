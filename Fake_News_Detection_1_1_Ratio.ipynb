{
 "cells": [
  {
   "cell_type": "markdown",
   "id": "ab16fed3",
   "metadata": {
    "id": "ab16fed3"
   },
   "source": [
    "<h2>Fake News Detection</h2>"
   ]
  },
  {
   "cell_type": "markdown",
   "id": "9032b38a",
   "metadata": {
    "id": "9032b38a"
   },
   "source": [
    "<h3> Project Description </h3>\n",
    "This project intends to hopefully a series of models that accurately predict the authenticity of the news articles. In this jupyter notebook, we will walk you through the typical data life cycle from data pre-processing to model validation. A wide range of machine learning algorithms have been displayed along with their effect on differing sample sizes. "
   ]
  },
  {
   "cell_type": "code",
   "execution_count": null,
   "id": "0541e969",
   "metadata": {
    "colab": {
     "base_uri": "https://localhost:8080/"
    },
    "id": "0541e969",
    "outputId": "8df1497f-599f-4077-ca92-bbf1fa1b441f"
   },
   "outputs": [
    {
     "name": "stdout",
     "output_type": "stream",
     "text": [
      "[nltk_data] Downloading package stopwords to /root/nltk_data...\n",
      "[nltk_data]   Unzipping corpora/stopwords.zip.\n",
      "[nltk_data] Downloading package wordnet to /root/nltk_data...\n",
      "[nltk_data]   Unzipping corpora/wordnet.zip.\n"
     ]
    },
    {
     "data": {
      "text/plain": [
       "True"
      ]
     },
     "execution_count": 1,
     "metadata": {},
     "output_type": "execute_result"
    }
   ],
   "source": [
    "# Importing required modules\n",
    "import pandas as pd\n",
    "from sklearn.feature_extraction.text import CountVectorizer, TfidfVectorizer, HashingVectorizer\n",
    "from nltk.corpus import stopwords\n",
    "from nltk.stem import PorterStemmer, WordNetLemmatizer\n",
    "import seaborn as sns\n",
    "import re\n",
    "import numpy as np\n",
    "import matplotlib.pyplot as plt\n",
    "import nltk\n",
    "nltk.download('stopwords')\n",
    "nltk.download('wordnet')"
   ]
  },
  {
   "cell_type": "markdown",
   "id": "Mzz8tODJTYvg",
   "metadata": {
    "id": "Mzz8tODJTYvg"
   },
   "source": [
    "<h3>Mounting Drive</h3>\n",
    "I had to mount google drive in order to directly access the training and testing datasets"
   ]
  },
  {
   "cell_type": "code",
   "execution_count": null,
   "id": "1n5qYFl8lKgN",
   "metadata": {
    "colab": {
     "base_uri": "https://localhost:8080/"
    },
    "id": "1n5qYFl8lKgN",
    "outputId": "c741adc6-cab0-4ed7-e6c9-cedc208063c5"
   },
   "outputs": [
    {
     "name": "stdout",
     "output_type": "stream",
     "text": [
      "Mounted at /content/drive\n"
     ]
    }
   ],
   "source": [
    "from google.colab import drive\n",
    "drive.mount('/content/drive')"
   ]
  },
  {
   "cell_type": "code",
   "execution_count": null,
   "id": "4e72015b",
   "metadata": {
    "id": "4e72015b"
   },
   "outputs": [],
   "source": [
    "'''\n",
    "real_df=pd.read_csv(\"/content/drive/My Drive/CSCE489/True.csv\")\n",
    "fake_df=pd.read_csv(\"/content/drive/My Drive/CSCE489/Fake.csv\")\n",
    "print(real_df.shape)\n",
    "print(fake_df.shape)\n",
    "print(real_df.head())\n",
    "print(fake_df.head())\n",
    "# We begin by merging both these separate dataframes into one unified dataframe\n",
    "#news_df=pd.concat([real_df, fake_df], axis=0).reset_index(drop=True)\n",
    "\n",
    "# Ratio 1:4\n",
    "# news_df=pd.concat([fake_df[0:5356],real_df], axis=0).reset_index(drop=True)\n",
    "news_df=pd.concat([fake_df,real_df], axis=0).reset_index(drop=True)\n",
    "\n",
    "# We are shuffling the given dataset to introduce randomness by removing structured ordering of two classes\n",
    "news_df = news_df.sample(frac=1).reset_index(drop=True)\n",
    "news_df\n",
    "\n",
    "news_df.to_csv('test_final.csv')\n",
    "from google.colab import files\n",
    "files.download(\"test_final.csv\")\n",
    "'''"
   ]
  },
  {
   "cell_type": "code",
   "execution_count": null,
   "id": "ZMPsrIFpi_Qs",
   "metadata": {
    "colab": {
     "base_uri": "https://localhost:8080/",
     "height": 597
    },
    "id": "ZMPsrIFpi_Qs",
    "outputId": "b8f957f4-9803-4ba6-923a-a70804bd3bb3"
   },
   "outputs": [
    {
     "data": {
      "text/html": [
       "<div>\n",
       "<style scoped>\n",
       "    .dataframe tbody tr th:only-of-type {\n",
       "        vertical-align: middle;\n",
       "    }\n",
       "\n",
       "    .dataframe tbody tr th {\n",
       "        vertical-align: top;\n",
       "    }\n",
       "\n",
       "    .dataframe thead th {\n",
       "        text-align: right;\n",
       "    }\n",
       "</style>\n",
       "<table border=\"1\" class=\"dataframe\">\n",
       "  <thead>\n",
       "    <tr style=\"text-align: right;\">\n",
       "      <th></th>\n",
       "      <th>Title</th>\n",
       "      <th>Text</th>\n",
       "      <th>Subject</th>\n",
       "      <th>Date</th>\n",
       "      <th>Label</th>\n",
       "    </tr>\n",
       "  </thead>\n",
       "  <tbody>\n",
       "    <tr>\n",
       "      <th>0</th>\n",
       "      <td>North Carolina Republicans Lose As Federal Ap...</td>\n",
       "      <td>Republican racists in North Carolina just got ...</td>\n",
       "      <td>News</td>\n",
       "      <td>29-Jul-16</td>\n",
       "      <td>0</td>\n",
       "    </tr>\n",
       "    <tr>\n",
       "      <th>1</th>\n",
       "      <td>Obamacare exploding? Maybe just a slow burn</td>\n",
       "      <td>NEW YORK/WASHINGTON (Reuters) - U.S. President...</td>\n",
       "      <td>politicsNews</td>\n",
       "      <td>25-Mar-17</td>\n",
       "      <td>1</td>\n",
       "    </tr>\n",
       "    <tr>\n",
       "      <th>2</th>\n",
       "      <td>Kissinger says impressed by China's 'calm reac...</td>\n",
       "      <td>NEW YORK (Reuters) - Former U.S. Secretary of ...</td>\n",
       "      <td>politicsNews</td>\n",
       "      <td>5-Dec-16</td>\n",
       "      <td>1</td>\n",
       "    </tr>\n",
       "    <tr>\n",
       "      <th>3</th>\n",
       "      <td>Saudi Arabia tightens security after Bahrain p...</td>\n",
       "      <td>DUBAI (Reuters) - Saudi Arabia s energy minist...</td>\n",
       "      <td>worldnews</td>\n",
       "      <td>11-Nov-17</td>\n",
       "      <td>1</td>\n",
       "    </tr>\n",
       "    <tr>\n",
       "      <th>4</th>\n",
       "      <td>Donald Trump Is Destroying The Country’s Repu...</td>\n",
       "      <td>During the election, when Donald Trump wasn t ...</td>\n",
       "      <td>News</td>\n",
       "      <td>17-Nov-17</td>\n",
       "      <td>0</td>\n",
       "    </tr>\n",
       "    <tr>\n",
       "      <th>...</th>\n",
       "      <td>...</td>\n",
       "      <td>...</td>\n",
       "      <td>...</td>\n",
       "      <td>...</td>\n",
       "      <td>...</td>\n",
       "    </tr>\n",
       "    <tr>\n",
       "      <th>44853</th>\n",
       "      <td>U.S. slated to sell $375 million of emergency ...</td>\n",
       "      <td>WASHINGTON (Reuters) - The U.S. government is ...</td>\n",
       "      <td>politicsNews</td>\n",
       "      <td>10-Dec-16</td>\n",
       "      <td>1</td>\n",
       "    </tr>\n",
       "    <tr>\n",
       "      <th>44854</th>\n",
       "      <td>Melania Trump And Heidi Cruz Finally Get Toge...</td>\n",
       "      <td>Someone we haven t heard a lot from during the...</td>\n",
       "      <td>News</td>\n",
       "      <td>1-Jun-16</td>\n",
       "      <td>0</td>\n",
       "    </tr>\n",
       "    <tr>\n",
       "      <th>44855</th>\n",
       "      <td>Analysis Shows Hillary Clinton’s Plans Would ...</td>\n",
       "      <td>As the Democratic National Convention wrapped ...</td>\n",
       "      <td>News</td>\n",
       "      <td>29-Jul-16</td>\n",
       "      <td>0</td>\n",
       "    </tr>\n",
       "    <tr>\n",
       "      <th>44856</th>\n",
       "      <td>BELGIUM’S POLITICAL LEADER Michaël Modrikamen ...</td>\n",
       "      <td>This video was published on March 11, 2016, ex...</td>\n",
       "      <td>Government News</td>\n",
       "      <td>22-Mar-16</td>\n",
       "      <td>0</td>\n",
       "    </tr>\n",
       "    <tr>\n",
       "      <th>44857</th>\n",
       "      <td>Not a Journalist: CNN’s Brian Stelter Manages ...</td>\n",
       "      <td>21st Century Wire says CNN s Brian Stelter hos...</td>\n",
       "      <td>US_News</td>\n",
       "      <td>16-Sep-16</td>\n",
       "      <td>0</td>\n",
       "    </tr>\n",
       "  </tbody>\n",
       "</table>\n",
       "<p>44858 rows × 5 columns</p>\n",
       "</div>"
      ],
      "text/plain": [
       "                                                   Title  ... Label\n",
       "0       North Carolina Republicans Lose As Federal Ap...  ...     0\n",
       "1            Obamacare exploding? Maybe just a slow burn  ...     1\n",
       "2      Kissinger says impressed by China's 'calm reac...  ...     1\n",
       "3      Saudi Arabia tightens security after Bahrain p...  ...     1\n",
       "4       Donald Trump Is Destroying The Country’s Repu...  ...     0\n",
       "...                                                  ...  ...   ...\n",
       "44853  U.S. slated to sell $375 million of emergency ...  ...     1\n",
       "44854   Melania Trump And Heidi Cruz Finally Get Toge...  ...     0\n",
       "44855   Analysis Shows Hillary Clinton’s Plans Would ...  ...     0\n",
       "44856  BELGIUM’S POLITICAL LEADER Michaël Modrikamen ...  ...     0\n",
       "44857  Not a Journalist: CNN’s Brian Stelter Manages ...  ...     0\n",
       "\n",
       "[44858 rows x 5 columns]"
      ]
     },
     "execution_count": 4,
     "metadata": {},
     "output_type": "execute_result"
    }
   ],
   "source": [
    "news_df=pd.read_csv(\"/content/drive/My Drive/CSCE489/test_final.csv\")\n",
    "del news_df['Unnamed: 0']\n",
    "news_df"
   ]
  },
  {
   "cell_type": "code",
   "execution_count": null,
   "id": "095765da",
   "metadata": {
    "colab": {
     "base_uri": "https://localhost:8080/"
    },
    "id": "095765da",
    "outputId": "db65ebbc-2162-45f7-b6c7-d5b4ad3fe4fd"
   },
   "outputs": [
    {
     "name": "stdout",
     "output_type": "stream",
     "text": [
      "Dataset Size:  (44858, 5)\n"
     ]
    }
   ],
   "source": [
    "# Displaying the dataset shape\n",
    "print(\"Dataset Size: \",news_df.shape)"
   ]
  },
  {
   "cell_type": "code",
   "execution_count": null,
   "id": "9dc3ead5",
   "metadata": {
    "colab": {
     "base_uri": "https://localhost:8080/"
    },
    "id": "9dc3ead5",
    "outputId": "d440d463-c09f-4d8f-f5ca-05eaac50e5e3"
   },
   "outputs": [
    {
     "data": {
      "text/plain": [
       "Title      44858\n",
       "Text       44858\n",
       "Subject    44858\n",
       "Date       44858\n",
       "Label      44858\n",
       "dtype: int64"
      ]
     },
     "execution_count": 6,
     "metadata": {},
     "output_type": "execute_result"
    }
   ],
   "source": [
    "# This proves that our dataset has no missing/null values\n",
    "news_df.notnull().sum()"
   ]
  },
  {
   "cell_type": "markdown",
   "id": "3f75d215",
   "metadata": {
    "id": "3f75d215"
   },
   "source": [
    "<h2> A: Data Pre-Processing </h2>\n",
    "<p> In the section below we will be cleaning the data by inspecting and removing NaN values, stopwords and special characters from our previously obtained news dataset. We will also be manipulating the data to repurpose it for our further applications.</p>"
   ]
  },
  {
   "cell_type": "code",
   "execution_count": null,
   "id": "7104f8bd",
   "metadata": {
    "colab": {
     "base_uri": "https://localhost:8080/"
    },
    "id": "7104f8bd",
    "outputId": "7107adbf-437a-4873-d946-4c63b49ff3e4"
   },
   "outputs": [
    {
     "name": "stdout",
     "output_type": "stream",
     "text": [
      "BOOM! Trump Allows Pro-Illegal Alien Heckler To Ask Question, Then Destroys Her With This Response [VIDEO]\n",
      "Performances like the one in the video below by Trump in NH, are why people are lining up for hours to see him appear at his rallies Businessman Donald Trump OWNED a heckler today at his sold-out event in New Hampshire.There were so many people at the rally reporters were locked out and there was a line of cars stretching outside the city limits. Illegal immigrants are the backbone of our country? I don t think so, darling,  Donald J. Trump responded to a heckler who interrupted his campaign rally.  You know what the backbone of our country [is]? People that came here, and they came here legally. People that came here to this country legally, and they worked their ass off, and they made this country great. Via: GP\n",
      "*******************\n"
     ]
    }
   ],
   "source": [
    "#news_df['Input Text']=news_df['Title']+\" \"+news_df['Text'][5:]\n",
    "print(news_df['Title'][10])\n",
    "print(news_df['Text'][10])\n",
    "\n",
    "\n",
    "print(\"*******************\")\n",
    "#news_df['Input Text'][10]"
   ]
  },
  {
   "cell_type": "code",
   "execution_count": null,
   "id": "gWtLWR00DMuw",
   "metadata": {
    "id": "gWtLWR00DMuw"
   },
   "outputs": [],
   "source": [
    "messages=news_df.copy()\n",
    "lem_word=WordNetLemmatizer()\n",
    "post_lem = []\n",
    "\n",
    "for i in range(0, len(messages)):\n",
    "    # Eg. \"Libya puts 142 migrants on plane back to Guinea\"\n",
    "    temp1 = re.sub('[^a-zA-Z]', ' ', messages['Title'][i])\n",
    "    temp2 = re.sub('[^a-zA-Z]', ' ', messages['Text'][i])\n",
    "    # Eg. \"Libya puts     migrants on plane back to Guinea\"\n",
    "    temp1 = temp1.lower()\n",
    "    temp2 = temp2.lower()\n",
    "    # Eg. \"libya puts     migrants on plane back to guinea\"\n",
    "    temp1 = temp1.split()\n",
    "    temp2 = temp2.split()[2:]\n",
    "    # Eg. ['libya', 'puts', 'migrants', 'on', 'plane', 'back', 'to', 'guinea']\n",
    "\n",
    "    # MERGING TITLE AND INPUT TEXT\n",
    "    temp=temp1+temp2\n",
    "    filtered=[]\n",
    "    for word in temp:\n",
    "        if ((word not in stopwords.words('english')) and (word!='reuters')):\n",
    "            filtered+=[lem_word.lemmatize(word)]\n",
    "            \n",
    "    # Eg. ['libya', 'put', 'migrant', 'plane', 'back', 'guinea']    \n",
    "    temp3=filtered\n",
    "    temp3 = ' '.join(temp3)\n",
    "    \n",
    "    # Eg. \"libya put migrant plane back guinea\"\n",
    "    post_lem.append(temp3)\n",
    "#corpus\n"
   ]
  },
  {
   "cell_type": "code",
   "execution_count": null,
   "id": "a4fabcff",
   "metadata": {
    "colab": {
     "base_uri": "https://localhost:8080/"
    },
    "id": "a4fabcff",
    "outputId": "a983ec3d-eeac-4aad-bce9-b80dfd0c31d1"
   },
   "outputs": [
    {
     "name": "stdout",
     "output_type": "stream",
     "text": [
      "Tranformed Dataset Size:  (44858, 5)\n"
     ]
    }
   ],
   "source": [
    "# Displaying the transformed dataset shape\n",
    "print(\"Tranformed Dataset Size: \",news_df.shape)"
   ]
  },
  {
   "cell_type": "markdown",
   "id": "a6d61627",
   "metadata": {
    "id": "a6d61627"
   },
   "source": [
    "<h3> Inspecting Input </h3>\n",
    "In the following cells, we will be taking a closer look at the pre-processed text datasets"
   ]
  },
  {
   "cell_type": "code",
   "execution_count": null,
   "id": "593ccb58",
   "metadata": {
    "id": "593ccb58"
   },
   "outputs": [],
   "source": [
    "print(\"Original Dataframe Length\", news_df.shape[0])\n",
    "#print(\"Stemmed Dataset Length: \",len(post_stem))\n",
    "print(\"Lemmatized Dataset Length:\",len(post_lem))\n",
    "#print(\"Input\", post_lem)"
   ]
  },
  {
   "cell_type": "code",
   "execution_count": null,
   "id": "86399a75",
   "metadata": {
    "colab": {
     "base_uri": "https://localhost:8080/"
    },
    "id": "86399a75",
    "outputId": "329e3cbe-3ecc-428c-d119-177a058fe63f"
   },
   "outputs": [
    {
     "name": "stdout",
     "output_type": "stream",
     "text": [
      "**************************** ORIGINAL TEXT ***********************\n",
      "Republican racists in North Carolina just got their asses handed to them by the United States 4th Circuit Court of Appeals.In 2013, Republicans abused their power in North Carolina by passing a law designed to keep them in power by suppressing the votes of minorities and young people by requiring they bring voter identification. The law also cut early voting, ended same day registration, and heavily restricted pre-registration of young voters. It has been the most draconian anti-voting law in the country, and has drawn massive protests ever since.Critics of the law challenged it s constitutionality in court, only to see the district court rule against them. But now a federal appeals court has not only reversed the lower court s decision, it slammed them. In holding that the legislature did not enact the challenged provisions with discriminatory intent, the court seems to have missed the forest in carefully surveying the many trees,  Judge Diana Motz wrote in the decision.  This failure of perspective led the court to ignore critical facts bearing on legislative intent, including the inextricable link between race and politics in North Carolina. And then Motz roundly condemned the Republican-dominated state legislature of North Carolina. The General Assembly enacted legislation that restricted voting and registration in five different ways, all of which disproportionately affected African Americans,  she wrote, stressing that the court did their homework which led to their ruling.In response to claims that intentional racial discrimination animated its action, the State offered only meager justifications. Although the new provisions target African Americans with almost surgical precision, they constitute inapt remedies for the problems assertedly justifying them and, in fact, impose cures for problems that did not exist. Thus the asserted justifications cannot and do not conceal the State s true motivation.Faced with this record, we can only conclude that the North Carolina General Assembly enacted the challenged provisions of the law with discriminatory intent. Accordingly, we reverse the judgment of the district court to the contrary and remand with instructions to enjoin the challenged provisions of the law. We recognize that elections have consequences, but winning an election does not empower anyone in any party to engage in purposeful racial discrimination.  Motz concluded.Here s the full decision via Talking Points Memo:This is a major victory for voting rights in this country and a humiliating defeat for Republicans who really thought they could suppress the votes of millions of Americans and get away with it just because they gained power in the state.Now Democrats have a fair chance to not only oust these Republicans and take back the state government of North Carolina, the voters who just got their voting rights restored will get a chance to vote in November just in time to participate in what will be a historical election.Featured Image: Chip Somodevilla/Getty Images\n",
      "\n",
      "**************************** LEMMATIZED TEXT ***********************\n",
      "north carolina republican lose federal appeal court strike voter suppression law north carolina got ass handed united state th circuit court appeal republican abused power north carolina passing law designed keep power suppressing vote minority young people requiring bring voter identification law also cut early voting ended day registration heavily restricted pre registration young voter draconian anti voting law country drawn massive protest ever since critic law challenged constitutionality court see district court rule federal appeal court reversed lower court decision slammed holding legislature enact challenged provision discriminatory intent court seems missed forest carefully surveying many tree judge diana motz wrote decision failure perspective led court ignore critical fact bearing legislative intent including inextricable link race politics north carolina motz roundly condemned republican dominated state legislature north carolina general assembly enacted legislation restricted voting registration five different way disproportionately affected african american wrote stressing court homework led ruling response claim intentional racial discrimination animated action state offered meager justification although new provision target african american almost surgical precision constitute inapt remedy problem assertedly justifying fact impose cure problem exist thus asserted justification cannot conceal state true motivation faced record conclude north carolina general assembly enacted challenged provision law discriminatory intent accordingly reverse judgment district court contrary remand instruction enjoin challenged provision law recognize election consequence winning election empower anyone party engage purposeful racial discrimination motz concluded full decision via talking point memo major victory voting right country humiliating defeat republican really thought could suppress vote million american get away gained power state democrat fair chance oust republican take back state government north carolina voter got voting right restored get chance vote november time participate historical election featured image chip somodevilla getty image\n"
     ]
    }
   ],
   "source": [
    "#RUNTIME Marking\n",
    "#10:24am\n",
    "#11:46am - CHECKPOINT SAVED\n",
    "# I COMMENTED THE STEMMED LINE BECAUSE I COMMENTED THE STEM ARRAY ON THE PREVIOUS THING\n",
    "\n",
    "print(\"**************************** ORIGINAL TEXT ***********************\")\n",
    "print(news_df['Text'][0])\n",
    "\n",
    "#print(\"\\n**************************** STEMMED TEXT ***********************\")\n",
    "#print(post_stem[10])\n",
    "\n",
    "print(\"\\n**************************** LEMMATIZED TEXT ***********************\")\n",
    "print(post_lem[0])\n"
   ]
  },
  {
   "cell_type": "markdown",
   "id": "8ab87398",
   "metadata": {
    "id": "8ab87398"
   },
   "source": [
    "<h3>Vector Conversion </h3>\n",
    "In the section below, we will be converting the text based dataset into a vector form for our model using CountVectorizer, Tf-Idf and Word2Vec."
   ]
  },
  {
   "cell_type": "code",
   "execution_count": null,
   "id": "1ae483ff",
   "metadata": {
    "id": "1ae483ff"
   },
   "outputs": [],
   "source": [
    "from sklearn.feature_extraction.text import CountVectorizer\n",
    "cv = CountVectorizer(ngram_range=(1,2), max_features=40000)\n",
    "count_vec = cv.fit_transform(post_lem)"
   ]
  },
  {
   "cell_type": "code",
   "execution_count": null,
   "id": "62bcbc26",
   "metadata": {
    "colab": {
     "base_uri": "https://localhost:8080/"
    },
    "id": "62bcbc26",
    "outputId": "81641f0f-5e97-42d2-8505-1ebdd022b906"
   },
   "outputs": [
    {
     "name": "stdout",
     "output_type": "stream",
     "text": [
      "Count Vectorizer Shape:  (44858, 40000) \n",
      "\n"
     ]
    },
    {
     "name": "stderr",
     "output_type": "stream",
     "text": [
      "/usr/local/lib/python3.7/dist-packages/sklearn/utils/deprecation.py:87: FutureWarning: Function get_feature_names is deprecated; get_feature_names is deprecated in 1.0 and will be removed in 1.2. Please use get_feature_names_out instead.\n",
      "  warnings.warn(msg, category=FutureWarning)\n"
     ]
    },
    {
     "name": "stdout",
     "output_type": "stream",
     "text": [
      "                  Count\n",
      "muslim               37\n",
      "business              7\n",
      "together              7\n",
      "toronto               6\n",
      "need                  6\n",
      "change                5\n",
      "living                5\n",
      "islamic               5\n",
      "people                5\n",
      "sharia                5\n",
      "law                   4\n",
      "imam                  4\n",
      "work                  4\n",
      "help                  4\n",
      "lot                   4\n",
      "one                   4\n",
      "number                4\n",
      "community             4\n",
      "work together         4\n",
      "people living         4\n",
      "sure                  3\n",
      "find                  3\n",
      "need help             3\n",
      "infidel               3\n",
      "muslim community      3\n"
     ]
    }
   ],
   "source": [
    "print(\"Count Vectorizer Shape: \",count_vec.shape,\"\\n\")\n",
    "\n",
    "df = pd.DataFrame(count_vec[1000].T.todense(), index=cv.get_feature_names(), columns=[\"Count\"])\n",
    "df = df.sort_values('Count', ascending=False)\n",
    "print (df.head(25))"
   ]
  },
  {
   "cell_type": "code",
   "execution_count": null,
   "id": "518c52c5",
   "metadata": {
    "id": "518c52c5"
   },
   "outputs": [],
   "source": [
    "from sklearn.feature_extraction.text import TfidfVectorizer\n",
    "tfIdfVectorizer=TfidfVectorizer(ngram_range=(1,2), max_features=40000)\n",
    "tfIdf_vec = tfIdfVectorizer.fit_transform(post_lem)"
   ]
  },
  {
   "cell_type": "code",
   "execution_count": null,
   "id": "54581bc7",
   "metadata": {
    "colab": {
     "base_uri": "https://localhost:8080/"
    },
    "id": "54581bc7",
    "outputId": "4a35eae6-149f-4181-ff46-398a08a07ca4"
   },
   "outputs": [
    {
     "name": "stdout",
     "output_type": "stream",
     "text": [
      "TfIdf Vectorizer Shape:  (44858, 40000) \n",
      "\n"
     ]
    },
    {
     "name": "stderr",
     "output_type": "stream",
     "text": [
      "/usr/local/lib/python3.7/dist-packages/sklearn/utils/deprecation.py:87: FutureWarning: Function get_feature_names is deprecated; get_feature_names is deprecated in 1.0 and will be removed in 1.2. Please use get_feature_names_out instead.\n",
      "  warnings.warn(msg, category=FutureWarning)\n"
     ]
    },
    {
     "name": "stdout",
     "output_type": "stream",
     "text": [
      "                    TF-IDF\n",
      "muslim            0.629392\n",
      "toronto           0.225995\n",
      "sharia            0.159850\n",
      "imam              0.140734\n",
      "people living     0.139549\n",
      "together          0.132675\n",
      "sikh              0.130097\n",
      "work together     0.118687\n",
      "infidel           0.115300\n",
      "islamic law       0.111965\n",
      "business          0.109586\n",
      "living            0.105680\n",
      "need help         0.101252\n",
      "muslim community  0.101153\n",
      "islamic           0.095847\n",
      "owned business    0.082485\n",
      "without approval  0.082485\n",
      "together one      0.080403\n",
      "cab               0.080171\n",
      "need              0.080158\n",
      "alberta           0.079291\n",
      "thousand muslim   0.078100\n",
      "one area          0.077732\n",
      "change            0.076893\n",
      "truck driver      0.076867\n"
     ]
    }
   ],
   "source": [
    "print(\"TfIdf Vectorizer Shape: \",tfIdf_vec.shape,\"\\n\")\n",
    "\n",
    "df = pd.DataFrame(tfIdf_vec[1000].T.todense(), index=tfIdfVectorizer.get_feature_names(), columns=[\"TF-IDF\"])\n",
    "df = df.sort_values('TF-IDF', ascending=False)\n",
    "print (df.head(25))"
   ]
  },
  {
   "cell_type": "code",
   "execution_count": null,
   "id": "d2dd6c60",
   "metadata": {
    "colab": {
     "base_uri": "https://localhost:8080/"
    },
    "id": "d2dd6c60",
    "outputId": "b060619e-a84a-40a5-9559-aa82e6be21a3"
   },
   "outputs": [
    {
     "data": {
      "text/plain": [
       "{'analyzer': 'word',\n",
       " 'binary': False,\n",
       " 'decode_error': 'strict',\n",
       " 'dtype': numpy.int64,\n",
       " 'encoding': 'utf-8',\n",
       " 'input': 'content',\n",
       " 'lowercase': True,\n",
       " 'max_df': 1.0,\n",
       " 'max_features': 40000,\n",
       " 'min_df': 1,\n",
       " 'ngram_range': (1, 2),\n",
       " 'preprocessor': None,\n",
       " 'stop_words': None,\n",
       " 'strip_accents': None,\n",
       " 'token_pattern': '(?u)\\\\b\\\\w\\\\w+\\\\b',\n",
       " 'tokenizer': None,\n",
       " 'vocabulary': None}"
      ]
     },
     "execution_count": 17,
     "metadata": {},
     "output_type": "execute_result"
    }
   ],
   "source": [
    "cv.get_params()"
   ]
  },
  {
   "cell_type": "code",
   "execution_count": null,
   "id": "65de810b",
   "metadata": {
    "colab": {
     "base_uri": "https://localhost:8080/"
    },
    "id": "65de810b",
    "outputId": "8bd5273d-63a9-4435-a7ef-2f616be7fc0e"
   },
   "outputs": [
    {
     "data": {
      "text/plain": [
       "{'analyzer': 'word',\n",
       " 'binary': False,\n",
       " 'decode_error': 'strict',\n",
       " 'dtype': numpy.float64,\n",
       " 'encoding': 'utf-8',\n",
       " 'input': 'content',\n",
       " 'lowercase': True,\n",
       " 'max_df': 1.0,\n",
       " 'max_features': 40000,\n",
       " 'min_df': 1,\n",
       " 'ngram_range': (1, 2),\n",
       " 'norm': 'l2',\n",
       " 'preprocessor': None,\n",
       " 'smooth_idf': True,\n",
       " 'stop_words': None,\n",
       " 'strip_accents': None,\n",
       " 'sublinear_tf': False,\n",
       " 'token_pattern': '(?u)\\\\b\\\\w\\\\w+\\\\b',\n",
       " 'tokenizer': None,\n",
       " 'use_idf': True,\n",
       " 'vocabulary': None}"
      ]
     },
     "execution_count": 18,
     "metadata": {},
     "output_type": "execute_result"
    }
   ],
   "source": [
    "tfIdfVectorizer.get_params()"
   ]
  },
  {
   "cell_type": "code",
   "execution_count": null,
   "id": "ebde1096",
   "metadata": {
    "id": "ebde1096"
   },
   "outputs": [],
   "source": [
    "# Storing the output labels\n",
    "labels=messages['Label']"
   ]
  },
  {
   "cell_type": "markdown",
   "id": "8108b5dd",
   "metadata": {
    "id": "8108b5dd"
   },
   "source": [
    "[link text](https://)<h3>Training and Testing Preparation</h3>\n",
    "In the following section, we will be splitting the dataset using train_test_split."
   ]
  },
  {
   "cell_type": "code",
   "execution_count": null,
   "id": "9aafca62",
   "metadata": {
    "id": "9aafca62"
   },
   "outputs": [],
   "source": [
    "## Divide the dataset into Train and Test\n",
    "from sklearn.model_selection import train_test_split\n",
    "X_train, X_test, Y_train, Y_test = train_test_split(tfIdf_vec, labels, test_size=0.35, random_state=0)\n",
    "X_train_c, X_test_c, Y_train_c, Y_test_c = train_test_split(count_vec, labels, test_size=0.35, random_state=0)"
   ]
  },
  {
   "cell_type": "code",
   "execution_count": null,
   "id": "5cfba939",
   "metadata": {
    "colab": {
     "base_uri": "https://localhost:8080/"
    },
    "id": "5cfba939",
    "outputId": "6c1275ad-7ea1-4f74-9361-17c9cf982950"
   },
   "outputs": [
    {
     "data": {
      "text/plain": [
       "matrix([[0., 0., 0., ..., 0., 0., 0.]])"
      ]
     },
     "execution_count": 21,
     "metadata": {},
     "output_type": "execute_result"
    }
   ],
   "source": [
    "# CONVERTING TO ARRAY NOT REASONABLE GIVEN SPACE RESTRICTIONS\n",
    "X_train[10].todense()[0]"
   ]
  },
  {
   "cell_type": "markdown",
   "id": "715da99d",
   "metadata": {
    "id": "715da99d"
   },
   "source": [
    "<h2>B: Training Models</h2>\n",
    "In the section below, we will be training a whole range of machine learning algorithms."
   ]
  },
  {
   "cell_type": "markdown",
   "id": "hdaWYkmQUXx4",
   "metadata": {
    "id": "hdaWYkmQUXx4"
   },
   "source": [
    "<h4>I - Random Forest Classifier</h4>"
   ]
  },
  {
   "cell_type": "code",
   "execution_count": null,
   "id": "13e3d668",
   "metadata": {
    "id": "13e3d668"
   },
   "outputs": [],
   "source": [
    "# LABELS: 1-True News <=> 0-Fake News\n",
    "from sklearn.ensemble import RandomForestClassifier\n",
    "\n",
    "# TfIdf Vectorizer\n",
    "model = RandomForestClassifier(n_estimators=100)\n",
    "model.fit(X_train, Y_train)\n",
    "\n",
    "# Count Vectorizer\n",
    "model2 = RandomForestClassifier(n_estimators=100)\n",
    "model2.fit(X_train_c, Y_train_c)\n",
    "\n",
    "y_pred = model.predict(X_test)\n",
    "y_pred_c = model2.predict(X_test_c)\n",
    "#print(\"Random Forest:\",accuracy_score(y_pred4, Y_test))"
   ]
  },
  {
   "cell_type": "code",
   "execution_count": null,
   "id": "0defb8cb",
   "metadata": {
    "colab": {
     "base_uri": "https://localhost:8080/"
    },
    "id": "0defb8cb",
    "outputId": "ae4f85aa-47b0-4016-95ba-9133eb2e8808"
   },
   "outputs": [
    {
     "name": "stdout",
     "output_type": "stream",
     "text": [
      "Random Forest\n",
      "tfIdf Vectorizer:  0.9847780396153111\n",
      "Count Vectorizer:  0.9852875613018279\n"
     ]
    }
   ],
   "source": [
    "#2:00 => \n",
    "# Count Vec: 0.94\n",
    "# TfIdf Vec: 0.95\n",
    "#tfIdfVec\n",
    "from sklearn.metrics import accuracy_score\n",
    "print(\"Random Forest\")\n",
    "score1=accuracy_score(y_pred, Y_test)\n",
    "score2=accuracy_score(y_pred_c, Y_test_c)\n",
    "print(\"tfIdf Vectorizer: \",score1)\n",
    "print(\"Count Vectorizer: \",score2)\n",
    "\n"
   ]
  },
  {
   "cell_type": "code",
   "execution_count": null,
   "id": "c9e1d953",
   "metadata": {
    "id": "c9e1d953"
   },
   "outputs": [],
   "source": [
    "from sklearn.metrics import classification_report, confusion_matrix\n",
    "map1=confusion_matrix(Y_test, y_pred)\n",
    "map2=confusion_matrix(Y_test_c, y_pred_c)"
   ]
  },
  {
   "cell_type": "code",
   "execution_count": null,
   "id": "50787736",
   "metadata": {
    "colab": {
     "base_uri": "https://localhost:8080/",
     "height": 453
    },
    "id": "50787736",
    "outputId": "30084722-1415-4595-fb4e-5ff489f488ab"
   },
   "outputs": [
    {
     "name": "stdout",
     "output_type": "stream",
     "text": [
      "Random Forest Classifier - tfIdfVectorizer\n",
      "              precision    recall  f1-score   support\n",
      "\n",
      "           0       0.99      0.98      0.99      8171\n",
      "           1       0.98      0.99      0.98      7530\n",
      "\n",
      "    accuracy                           0.98     15701\n",
      "   macro avg       0.98      0.98      0.98     15701\n",
      "weighted avg       0.98      0.98      0.98     15701\n",
      "\n"
     ]
    },
    {
     "data": {
      "image/png": "[encoded data removed]",
      "text/plain": [
       "<Figure size 432x288 with 1 Axes>"
      ]
     },
     "metadata": {
      "needs_background": "light"
     },
     "output_type": "display_data"
    }
   ],
   "source": [
    "# POST - NGRAM (1,2) + 25000 feature limit\n",
    "print(\"Random Forest Classifier - tfIdfVectorizer\")\n",
    "print(classification_report(Y_test, y_pred))\n",
    "sns.heatmap(map1, square=True, annot=True, cbar=False, fmt='')\n",
    "\n",
    "\n",
    "plt.xlabel('predicted value')\n",
    "plt.ylabel('true value');\n"
   ]
  },
  {
   "cell_type": "code",
   "execution_count": null,
   "id": "PCW5FQ1OQ31p",
   "metadata": {
    "colab": {
     "base_uri": "https://localhost:8080/",
     "height": 453
    },
    "id": "PCW5FQ1OQ31p",
    "outputId": "5252aaa8-c751-433c-d1bf-337204ec049f"
   },
   "outputs": [
    {
     "name": "stdout",
     "output_type": "stream",
     "text": [
      "Random Forest Classifier - Count Vectorizer\n",
      "              precision    recall  f1-score   support\n",
      "\n",
      "           0       0.99      0.98      0.99      8171\n",
      "           1       0.98      0.99      0.98      7530\n",
      "\n",
      "    accuracy                           0.99     15701\n",
      "   macro avg       0.99      0.99      0.99     15701\n",
      "weighted avg       0.99      0.99      0.99     15701\n",
      "\n"
     ]
    },
    {
     "data": {
      "image/png": "[encoded data removed]",
      "text/plain": [
       "<Figure size 432x288 with 1 Axes>"
      ]
     },
     "metadata": {
      "needs_background": "light"
     },
     "output_type": "display_data"
    }
   ],
   "source": [
    "print(\"Random Forest Classifier - Count Vectorizer\")\n",
    "print(classification_report(Y_test_c,y_pred_c))\n",
    "sns.heatmap(map2, square=True, annot=True, cbar=False, fmt='')\n",
    "plt.xlabel('predicted value')\n",
    "plt.ylabel('true value');"
   ]
  },
  {
   "cell_type": "markdown",
   "id": "XIFB06fpUC2W",
   "metadata": {
    "id": "XIFB06fpUC2W"
   },
   "source": [
    "<h4>II - Passive Aggressive Classifier</h4>"
   ]
  },
  {
   "cell_type": "code",
   "execution_count": null,
   "id": "e02e5c97",
   "metadata": {
    "colab": {
     "base_uri": "https://localhost:8080/"
    },
    "id": "e02e5c97",
    "outputId": "c9f6b2cf-e68a-47a4-9bcb-6a2b33fa87c6"
   },
   "outputs": [
    {
     "name": "stdout",
     "output_type": "stream",
     "text": [
      "tfIdf Vectorizer - PassiveAggressive:  0.9896184956372206\n",
      "Count Vectorizer - PassiveAggressive:  0.9863066046748614\n"
     ]
    }
   ],
   "source": [
    "# Count Vec: 0.9930\n",
    "# tfIdf Vec: 0.9933\n",
    "from sklearn.linear_model import PassiveAggressiveClassifier\n",
    "linear_clf = PassiveAggressiveClassifier(n_iter_no_change=2)\n",
    "linear_clf_c = PassiveAggressiveClassifier(n_iter_no_change=2)\n",
    "\n",
    "linear_clf.fit(X_train, Y_train)\n",
    "linear_clf_c.fit(X_train_c, Y_train_c)\n",
    "\n",
    "pred = linear_clf.predict(X_test)\n",
    "pred_c=linear_clf_c.predict(X_test_c)\n",
    "\n",
    "score3 = accuracy_score(Y_test, pred)\n",
    "score4 = accuracy_score(Y_test_c,pred_c)\n",
    "print(\"tfIdf Vectorizer - PassiveAggressive: \",score3)\n",
    "print(\"Count Vectorizer - PassiveAggressive: \",score4)"
   ]
  },
  {
   "cell_type": "code",
   "execution_count": null,
   "id": "3519dd9f",
   "metadata": {
    "colab": {
     "base_uri": "https://localhost:8080/",
     "height": 470
    },
    "id": "3519dd9f",
    "outputId": "6d3ee9d7-a0e9-44ae-bd2f-c826b3aa91ef"
   },
   "outputs": [
    {
     "name": "stdout",
     "output_type": "stream",
     "text": [
      "PASSIVE AGGRESSIVE - TFIDF VECTORIZER\n",
      "\n",
      "              precision    recall  f1-score   support\n",
      "\n",
      "           0       0.99      0.99      0.99      8171\n",
      "           1       0.99      0.99      0.99      7530\n",
      "\n",
      "    accuracy                           0.99     15701\n",
      "   macro avg       0.99      0.99      0.99     15701\n",
      "weighted avg       0.99      0.99      0.99     15701\n",
      "\n"
     ]
    },
    {
     "data": {
      "image/png": "[encoded data removed]",
      "text/plain": [
       "<Figure size 432x288 with 1 Axes>"
      ]
     },
     "metadata": {
      "needs_background": "light"
     },
     "output_type": "display_data"
    }
   ],
   "source": [
    "# Count Vec: 9335-60 <=> 64-8549 ()\n",
    "print(\"PASSIVE AGGRESSIVE - TFIDF VECTORIZER\\n\")\n",
    "map3=confusion_matrix(Y_test, pred)\n",
    "print(classification_report(Y_test, pred))\n",
    "sns.heatmap(map3, square=True, annot=True, cbar=False, fmt='')\n",
    "plt.xlabel('predicted value')\n",
    "plt.ylabel('true value');\n",
    "#classes=['REAL','FAKE']\n",
    "#tick_marks = np.arange(len(classes))\n",
    "#plt.xticks(tick_marks, classes, horizontalalignment=\"center\")\n",
    "#plt.yticks(tick_marks, classes)"
   ]
  },
  {
   "cell_type": "code",
   "execution_count": null,
   "id": "Bemja2XTSJnx",
   "metadata": {
    "colab": {
     "base_uri": "https://localhost:8080/",
     "height": 470
    },
    "id": "Bemja2XTSJnx",
    "outputId": "81f67314-a298-4f6c-84b7-0cd30222c8c6"
   },
   "outputs": [
    {
     "name": "stdout",
     "output_type": "stream",
     "text": [
      "PASSIVE AGGRESSIVE - COUNT VECTORIZER\n",
      "\n",
      "              precision    recall  f1-score   support\n",
      "\n",
      "           0       0.99      0.99      0.99      8171\n",
      "           1       0.98      0.99      0.99      7530\n",
      "\n",
      "    accuracy                           0.99     15701\n",
      "   macro avg       0.99      0.99      0.99     15701\n",
      "weighted avg       0.99      0.99      0.99     15701\n",
      "\n"
     ]
    },
    {
     "data": {
      "image/png": "[encoded data removed]",
      "text/plain": [
       "<Figure size 432x288 with 1 Axes>"
      ]
     },
     "metadata": {
      "needs_background": "light"
     },
     "output_type": "display_data"
    }
   ],
   "source": [
    "print(\"PASSIVE AGGRESSIVE - COUNT VECTORIZER\\n\")\n",
    "map4=confusion_matrix(Y_test_c, pred_c)\n",
    "print(classification_report(Y_test_c, pred_c))\n",
    "sns.heatmap(map4, square=True, annot=True, cbar=False, fmt='')\n",
    "plt.xlabel('predicted value')\n",
    "plt.ylabel('true value');"
   ]
  },
  {
   "cell_type": "markdown",
   "id": "kOaqo-HCGa42",
   "metadata": {
    "id": "kOaqo-HCGa42"
   },
   "source": [
    "<h4> III - Support Vector Classifier </h4>"
   ]
  },
  {
   "cell_type": "code",
   "execution_count": null,
   "id": "xLMJx-wjTp4u",
   "metadata": {
    "colab": {
     "base_uri": "https://localhost:8080/"
    },
    "id": "xLMJx-wjTp4u",
    "outputId": "b78a416a-bd72-457f-c513-02ccdcea39e0"
   },
   "outputs": [
    {
     "name": "stdout",
     "output_type": "stream",
     "text": [
      "tfIdf Vectorizer - Linear SVM:  0.988599452264187\n",
      "Count Vectorizer - Linear SVM:  0.9848417298261257\n"
     ]
    }
   ],
   "source": [
    "from sklearn.svm import SVC\n",
    "model5=SVC(kernel='linear', gamma='auto')\n",
    "model5.fit(X_train,Y_train)\n",
    "pred5=model5.predict(X_test)\n",
    "model6=SVC(kernel='linear', gamma='auto')\n",
    "model6.fit(X_train_c,Y_train_c)\n",
    "pred6=model6.predict(X_test_c)\n",
    "\n",
    "score5=accuracy_score(Y_test, pred5)\n",
    "score6=accuracy_score(Y_test_c, pred6)\n",
    "print(\"tfIdf Vectorizer - Linear SVM: \",score5)\n",
    "print(\"Count Vectorizer - Linear SVM: \",score6)"
   ]
  },
  {
   "cell_type": "code",
   "execution_count": null,
   "id": "ZX4EuaEcYnLh",
   "metadata": {
    "colab": {
     "base_uri": "https://localhost:8080/",
     "height": 470
    },
    "id": "ZX4EuaEcYnLh",
    "outputId": "a96ae7b5-ffe1-415c-b4ee-a1df5d7dbc2a"
   },
   "outputs": [
    {
     "name": "stdout",
     "output_type": "stream",
     "text": [
      " Linear SVM - tfIdf VECTORIZER\n",
      "\n",
      "              precision    recall  f1-score   support\n",
      "\n",
      "           0       0.99      0.99      0.99      8171\n",
      "           1       0.99      0.99      0.99      7530\n",
      "\n",
      "    accuracy                           0.99     15701\n",
      "   macro avg       0.99      0.99      0.99     15701\n",
      "weighted avg       0.99      0.99      0.99     15701\n",
      "\n"
     ]
    },
    {
     "data": {
      "image/png": "[encoded data removed]",
      "text/plain": [
       "<Figure size 432x288 with 1 Axes>"
      ]
     },
     "metadata": {
      "needs_background": "light"
     },
     "output_type": "display_data"
    }
   ],
   "source": [
    "# 20 minutes\n",
    "print(\" Linear SVM - tfIdf VECTORIZER\\n\")\n",
    "map5=confusion_matrix(Y_test, pred5)\n",
    "print(classification_report(Y_test, pred5))\n",
    "sns.heatmap(map5, square=True, annot=True, cbar=False, fmt='')\n",
    "plt.xlabel('predicted value')\n",
    "plt.ylabel('true value');"
   ]
  },
  {
   "cell_type": "code",
   "execution_count": null,
   "id": "nemI1hHbYZLS",
   "metadata": {
    "colab": {
     "base_uri": "https://localhost:8080/",
     "height": 470
    },
    "id": "nemI1hHbYZLS",
    "outputId": "729ffb7a-540f-4dd5-806e-1a175b6c8cd4"
   },
   "outputs": [
    {
     "name": "stdout",
     "output_type": "stream",
     "text": [
      " Linear SVM - COUNT VECTORIZER\n",
      "\n",
      "              precision    recall  f1-score   support\n",
      "\n",
      "           0       0.99      0.98      0.99      8171\n",
      "           1       0.98      0.99      0.98      7530\n",
      "\n",
      "    accuracy                           0.98     15701\n",
      "   macro avg       0.98      0.98      0.98     15701\n",
      "weighted avg       0.98      0.98      0.98     15701\n",
      "\n"
     ]
    },
    {
     "data": {
      "image/png": "[encoded data removed]",
      "text/plain": [
       "<Figure size 432x288 with 1 Axes>"
      ]
     },
     "metadata": {
      "needs_background": "light"
     },
     "output_type": "display_data"
    }
   ],
   "source": [
    "print(\" Linear SVM - COUNT VECTORIZER\\n\")\n",
    "map6=confusion_matrix(Y_test_c, pred6)\n",
    "print(classification_report(Y_test_c, pred6))\n",
    "sns.heatmap(map6, square=True, annot=True, cbar=False, fmt='')\n",
    "plt.xlabel('predicted value')\n",
    "plt.ylabel('true value');"
   ]
  },
  {
   "cell_type": "code",
   "execution_count": null,
   "id": "41fb172d",
   "metadata": {
    "id": "41fb172d"
   },
   "outputs": [],
   "source": [
    "# model7=SVC(kernel='poly')\n",
    "# model7.fit(X_train,Y_train)\n",
    "# pred7=model7.predict(X_test)\n",
    "# score7=accuracy_score(Y_test, pred5)\n",
    "# print(\"tfIdf Vectorizer - Poly SVM: \",score7)"
   ]
  },
  {
   "cell_type": "code",
   "execution_count": null,
   "id": "7cdf9ce7",
   "metadata": {
    "id": "7cdf9ce7"
   },
   "outputs": [],
   "source": [
    "from sklearn.svm import SVC\n",
    "model8 = SVC(kernel='rbf')\n",
    "model8.fit(X_train, Y_train)\n",
    "pred8 = model8.predict(X_test)"
   ]
  },
  {
   "cell_type": "code",
   "execution_count": null,
   "id": "TtNksJ70Vb-f",
   "metadata": {
    "colab": {
     "base_uri": "https://localhost:8080/"
    },
    "id": "TtNksJ70Vb-f",
    "outputId": "aff26fa3-c254-4785-c1e4-d489fea753c0"
   },
   "outputs": [
    {
     "name": "stdout",
     "output_type": "stream",
     "text": [
      "TfIdf Vectorizer - Rbf Classifier Score:  0.9878988599452264\n",
      "Count Vectorizer - Rbf Classifier Score:  0.9817209094962104\n"
     ]
    }
   ],
   "source": [
    "from sklearn.metrics import accuracy_score\n",
    "from sklearn.metrics import classification_report, confusion_matrix\n",
    "\n",
    "score8 = accuracy_score(Y_test, pred8)\n",
    "\n",
    "\n",
    "model9 = SVC(kernel='rbf')\n",
    "model9.fit(X_train_c, Y_train_c)\n",
    "pred9 = model9.predict(X_test_c)\n",
    "score9 = accuracy_score(Y_test_c, pred9)\n",
    "\n",
    "\n",
    "print(\"TfIdf Vectorizer - Rbf Classifier Score: \",score8)\n",
    "print(\"Count Vectorizer - Rbf Classifier Score: \",score9)"
   ]
  },
  {
   "cell_type": "code",
   "execution_count": null,
   "id": "MmciGqueIT2e",
   "metadata": {
    "colab": {
     "base_uri": "https://localhost:8080/",
     "height": 470
    },
    "id": "MmciGqueIT2e",
    "outputId": "67ce0a37-5671-4bc0-b280-f74439e906d3"
   },
   "outputs": [
    {
     "name": "stdout",
     "output_type": "stream",
     "text": [
      " RBF SVM - TFidf VECTORIZER\n",
      "\n",
      "              precision    recall  f1-score   support\n",
      "\n",
      "           0       0.99      0.99      0.99      8171\n",
      "           1       0.98      0.99      0.99      7530\n",
      "\n",
      "    accuracy                           0.99     15701\n",
      "   macro avg       0.99      0.99      0.99     15701\n",
      "weighted avg       0.99      0.99      0.99     15701\n",
      "\n"
     ]
    },
    {
     "data": {
      "image/png": "[encoded data removed]",
      "text/plain": [
       "<Figure size 432x288 with 1 Axes>"
      ]
     },
     "metadata": {
      "needs_background": "light"
     },
     "output_type": "display_data"
    }
   ],
   "source": [
    "print(\" RBF SVM - TFidf VECTORIZER\\n\")\n",
    "map6=confusion_matrix(Y_test, pred8)\n",
    "print(classification_report(Y_test, pred8))\n",
    "sns.heatmap(map6, square=True, annot=True, cbar=False, fmt='')\n",
    "plt.xlabel('predicted value')\n",
    "plt.ylabel('true value');"
   ]
  },
  {
   "cell_type": "code",
   "execution_count": null,
   "id": "wF493R2LMaez",
   "metadata": {
    "colab": {
     "base_uri": "https://localhost:8080/",
     "height": 470
    },
    "id": "wF493R2LMaez",
    "outputId": "2c894ac9-e56b-4ac7-d3fa-7d2c932aca03"
   },
   "outputs": [
    {
     "name": "stdout",
     "output_type": "stream",
     "text": [
      " RBF SVM - Count VECTORIZER\n",
      "\n",
      "              precision    recall  f1-score   support\n",
      "\n",
      "           0       0.98      0.98      0.98      8171\n",
      "           1       0.98      0.98      0.98      7530\n",
      "\n",
      "    accuracy                           0.98     15701\n",
      "   macro avg       0.98      0.98      0.98     15701\n",
      "weighted avg       0.98      0.98      0.98     15701\n",
      "\n"
     ]
    },
    {
     "data": {
      "image/png": "[encoded data removed]",
      "text/plain": [
       "<Figure size 432x288 with 1 Axes>"
      ]
     },
     "metadata": {
      "needs_background": "light"
     },
     "output_type": "display_data"
    }
   ],
   "source": [
    "print(\" RBF SVM - Count VECTORIZER\\n\")\n",
    "map6=confusion_matrix(Y_test_c, pred9)\n",
    "print(classification_report(Y_test_c, pred9))\n",
    "sns.heatmap(map6, square=True, annot=True, cbar=False, fmt='')\n",
    "plt.xlabel('predicted value')\n",
    "plt.ylabel('true value');"
   ]
  },
  {
   "cell_type": "markdown",
   "id": "iSi_ZwCuZVob",
   "metadata": {
    "id": "iSi_ZwCuZVob"
   },
   "source": [
    "<h4> IV - Decision Tree Classifier </h4>"
   ]
  },
  {
   "cell_type": "code",
   "execution_count": null,
   "id": "d36c0a9c",
   "metadata": {
    "colab": {
     "base_uri": "https://localhost:8080/"
    },
    "id": "d36c0a9c",
    "outputId": "47a49497-8630-4f15-badf-1264bfa7c5ad"
   },
   "outputs": [
    {
     "name": "stdout",
     "output_type": "stream",
     "text": [
      "TfIdf Vectorizer - Decision Tree Score:  0.9554805426405961\n",
      "Count Vectorizer - Decision Tree Score:  0.9609579007706516\n"
     ]
    }
   ],
   "source": [
    "from sklearn.tree import DecisionTreeClassifier\n",
    "model10 = DecisionTreeClassifier()\n",
    "model10.fit(X_train, Y_train)\n",
    "pred10 = model10.predict(X_test)\n",
    "score10 = accuracy_score(Y_test, pred10)\n",
    "\n",
    "model11 = DecisionTreeClassifier()\n",
    "model11.fit(X_train_c, Y_train_c)\n",
    "pred11 = model11.predict(X_test_c)\n",
    "score11 = accuracy_score(Y_test_c, pred11)\n",
    "\n",
    "print(\"TfIdf Vectorizer - Decision Tree Score: \",score10)\n",
    "print(\"Count Vectorizer - Decision Tree Score: \",score11)"
   ]
  },
  {
   "cell_type": "code",
   "execution_count": null,
   "id": "ZiAjJEXT2x8u",
   "metadata": {
    "colab": {
     "base_uri": "https://localhost:8080/",
     "height": 470
    },
    "id": "ZiAjJEXT2x8u",
    "outputId": "0f5e7114-36d4-4cea-9aed-1b0036473634"
   },
   "outputs": [
    {
     "name": "stdout",
     "output_type": "stream",
     "text": [
      " Decision - tfIdf VECTORIZER\n",
      "\n",
      "              precision    recall  f1-score   support\n",
      "\n",
      "           0       0.95      0.96      0.96      8171\n",
      "           1       0.96      0.95      0.95      7530\n",
      "\n",
      "    accuracy                           0.96     15701\n",
      "   macro avg       0.96      0.96      0.96     15701\n",
      "weighted avg       0.96      0.96      0.96     15701\n",
      "\n"
     ]
    },
    {
     "data": {
      "image/png": "[encoded data removed]",
      "text/plain": [
       "<Figure size 432x288 with 1 Axes>"
      ]
     },
     "metadata": {
      "needs_background": "light"
     },
     "output_type": "display_data"
    }
   ],
   "source": [
    "print(\" Decision - tfIdf VECTORIZER\\n\")\n",
    "map10=confusion_matrix(Y_test, pred10)\n",
    "print(classification_report(Y_test, pred10))\n",
    "sns.heatmap(map10, square=True, annot=True, cbar=False, fmt='')\n",
    "plt.xlabel('predicted value')\n",
    "plt.ylabel('true value');"
   ]
  },
  {
   "cell_type": "code",
   "execution_count": null,
   "id": "WSrAeP3c20-I",
   "metadata": {
    "colab": {
     "base_uri": "https://localhost:8080/",
     "height": 470
    },
    "id": "WSrAeP3c20-I",
    "outputId": "6b48807c-f1eb-4675-9ba4-1190cc7c9e8e"
   },
   "outputs": [
    {
     "name": "stdout",
     "output_type": "stream",
     "text": [
      " Decision Tree - Count VECTORIZER\n",
      "\n",
      "              precision    recall  f1-score   support\n",
      "\n",
      "           0       0.96      0.97      0.96      8171\n",
      "           1       0.96      0.95      0.96      7530\n",
      "\n",
      "    accuracy                           0.96     15701\n",
      "   macro avg       0.96      0.96      0.96     15701\n",
      "weighted avg       0.96      0.96      0.96     15701\n",
      "\n"
     ]
    },
    {
     "data": {
      "image/png": "[encoded data removed]",
      "text/plain": [
       "<Figure size 432x288 with 1 Axes>"
      ]
     },
     "metadata": {
      "needs_background": "light"
     },
     "output_type": "display_data"
    }
   ],
   "source": [
    "print(\" Decision Tree - Count VECTORIZER\\n\")\n",
    "map11=confusion_matrix(Y_test_c, pred11)\n",
    "print(classification_report(Y_test_c, pred11))\n",
    "sns.heatmap(map11, square=True, annot=True, cbar=False, fmt='')\n",
    "plt.xlabel('predicted value')\n",
    "plt.ylabel('true value');"
   ]
  },
  {
   "cell_type": "markdown",
   "id": "sWvlJ3ZYKSFX",
   "metadata": {
    "id": "sWvlJ3ZYKSFX"
   },
   "source": [
    "<h4>V - Naive Bayes: Multinomial and Complement</h4>"
   ]
  },
  {
   "cell_type": "code",
   "execution_count": null,
   "id": "pkQhrS_k9_cR",
   "metadata": {
    "colab": {
     "base_uri": "https://localhost:8080/"
    },
    "id": "pkQhrS_k9_cR",
    "outputId": "fab28bc6-1312-4521-c035-799007043749"
   },
   "outputs": [
    {
     "name": "stdout",
     "output_type": "stream",
     "text": [
      "TfIdf Vectorizer - Naive Bayes Score: 0.9481561683969174\n",
      "Count Vectorizer - Naive Bayes Score: 0.9578370804407362\n"
     ]
    }
   ],
   "source": [
    "from sklearn.naive_bayes import MultinomialNB\n",
    "model12 = MultinomialNB()\n",
    "model12.fit(X_train,Y_train)\n",
    "pred12 = model12.predict(X_test)\n",
    "print(\"TfIdf Vectorizer - Naive Bayes Score:\",accuracy_score(Y_test, pred12))\n",
    "\n",
    "model13 = MultinomialNB()\n",
    "model13.fit(X_train_c,Y_train_c)\n",
    "pred13 = model13.predict(X_test_c)\n",
    "print(\"Count Vectorizer - Naive Bayes Score:\",accuracy_score(Y_test_c, pred13))"
   ]
  },
  {
   "cell_type": "code",
   "execution_count": null,
   "id": "K-oRjJ3fK23i",
   "metadata": {
    "colab": {
     "base_uri": "https://localhost:8080/",
     "height": 470
    },
    "id": "K-oRjJ3fK23i",
    "outputId": "fb83a0ee-1112-4c5a-aee8-cefcab270619"
   },
   "outputs": [
    {
     "name": "stdout",
     "output_type": "stream",
     "text": [
      " NB- tfIdf VECTORIZER\n",
      "\n",
      "              precision    recall  f1-score   support\n",
      "\n",
      "           0       0.95      0.95      0.95      8171\n",
      "           1       0.95      0.94      0.95      7530\n",
      "\n",
      "    accuracy                           0.95     15701\n",
      "   macro avg       0.95      0.95      0.95     15701\n",
      "weighted avg       0.95      0.95      0.95     15701\n",
      "\n"
     ]
    },
    {
     "data": {
      "image/png": "[encoded data removed]",
      "text/plain": [
       "<Figure size 432x288 with 1 Axes>"
      ]
     },
     "metadata": {
      "needs_background": "light"
     },
     "output_type": "display_data"
    }
   ],
   "source": [
    "print(\" NB- tfIdf VECTORIZER\\n\")\n",
    "map12=confusion_matrix(Y_test, pred12)\n",
    "print(classification_report(Y_test, pred12))\n",
    "sns.heatmap(map12, square=True, annot=True, cbar=False, fmt='')\n",
    "plt.xlabel('predicted value')\n",
    "plt.ylabel('true value');"
   ]
  },
  {
   "cell_type": "code",
   "execution_count": null,
   "id": "sGztNkrNK_V_",
   "metadata": {
    "colab": {
     "base_uri": "https://localhost:8080/",
     "height": 470
    },
    "id": "sGztNkrNK_V_",
    "outputId": "1a94737f-47a8-4f44-ef3e-51bff2967cb7"
   },
   "outputs": [
    {
     "name": "stdout",
     "output_type": "stream",
     "text": [
      " NB - Count VECTORIZER\n",
      "\n",
      "              precision    recall  f1-score   support\n",
      "\n",
      "           0       0.96      0.96      0.96      8171\n",
      "           1       0.96      0.95      0.96      7530\n",
      "\n",
      "    accuracy                           0.96     15701\n",
      "   macro avg       0.96      0.96      0.96     15701\n",
      "weighted avg       0.96      0.96      0.96     15701\n",
      "\n"
     ]
    },
    {
     "data": {
      "image/png": "[encoded data removed]",
      "text/plain": [
       "<Figure size 432x288 with 1 Axes>"
      ]
     },
     "metadata": {
      "needs_background": "light"
     },
     "output_type": "display_data"
    }
   ],
   "source": [
    "print(\" NB - Count VECTORIZER\\n\")\n",
    "map13=confusion_matrix(Y_test_c, pred13)\n",
    "print(classification_report(Y_test_c, pred13))\n",
    "sns.heatmap(map13, square=True, annot=True, cbar=False, fmt='')\n",
    "plt.xlabel('predicted value')\n",
    "plt.ylabel('true value');"
   ]
  },
  {
   "cell_type": "code",
   "execution_count": null,
   "id": "-wMAaM0OTQ6Y",
   "metadata": {
    "colab": {
     "base_uri": "https://localhost:8080/"
    },
    "id": "-wMAaM0OTQ6Y",
    "outputId": "bc2ee219-08c7-4c39-e549-82ed56275e65"
   },
   "outputs": [
    {
     "name": "stdout",
     "output_type": "stream",
     "text": [
      "TfIdf Vectorizer - Complement Naive Bayes Score: 0.9486019998726196\n",
      "Count Vectorizer - Complement Naive Bayes Score: 0.9579007706515509\n"
     ]
    }
   ],
   "source": [
    "from sklearn.naive_bayes import ComplementNB\n",
    "cnb = ComplementNB()\n",
    "cnb.fit(X_train,Y_train)\n",
    "pred_cnb = cnb.predict(X_test)\n",
    "print(\"TfIdf Vectorizer - Complement Naive Bayes Score:\",accuracy_score(Y_test, pred_cnb))\n",
    "\n",
    "cnb_2 = ComplementNB()\n",
    "cnb_2.fit(X_train_c,Y_train_c)\n",
    "pred_cnb_2 = cnb_2.predict(X_test_c)\n",
    "print(\"Count Vectorizer - Complement Naive Bayes Score:\",accuracy_score(Y_test_c, pred_cnb_2))"
   ]
  },
  {
   "cell_type": "code",
   "execution_count": null,
   "id": "sqqObslMT5pN",
   "metadata": {
    "colab": {
     "base_uri": "https://localhost:8080/",
     "height": 470
    },
    "id": "sqqObslMT5pN",
    "outputId": "94a29c11-bb40-49ab-b339-518c911e7458"
   },
   "outputs": [
    {
     "name": "stdout",
     "output_type": "stream",
     "text": [
      " CNB- tfIdf VECTORIZER\n",
      "\n",
      "              precision    recall  f1-score   support\n",
      "\n",
      "           0       0.95      0.95      0.95      8171\n",
      "           1       0.95      0.95      0.95      7530\n",
      "\n",
      "    accuracy                           0.95     15701\n",
      "   macro avg       0.95      0.95      0.95     15701\n",
      "weighted avg       0.95      0.95      0.95     15701\n",
      "\n"
     ]
    },
    {
     "data": {
      "image/png": "[encoded data removed]",
      "text/plain": [
       "<Figure size 432x288 with 1 Axes>"
      ]
     },
     "metadata": {
      "needs_background": "light"
     },
     "output_type": "display_data"
    }
   ],
   "source": [
    "print(\" CNB- tfIdf VECTORIZER\\n\")\n",
    "map_cnb=confusion_matrix(Y_test, pred_cnb)\n",
    "print(classification_report(Y_test, pred_cnb))\n",
    "sns.heatmap(map_cnb, square=True, annot=True, cbar=False, fmt='')\n",
    "plt.xlabel('predicted value')\n",
    "plt.ylabel('true value');"
   ]
  },
  {
   "cell_type": "code",
   "execution_count": null,
   "id": "JTX6E2RNUGht",
   "metadata": {
    "colab": {
     "base_uri": "https://localhost:8080/",
     "height": 470
    },
    "id": "JTX6E2RNUGht",
    "outputId": "afbf3747-8f01-4be0-a10d-e9fbc4f30b22"
   },
   "outputs": [
    {
     "name": "stdout",
     "output_type": "stream",
     "text": [
      " CNB - Count VECTORIZER\n",
      "\n",
      "              precision    recall  f1-score   support\n",
      "\n",
      "           0       0.96      0.96      0.96      8171\n",
      "           1       0.96      0.95      0.96      7530\n",
      "\n",
      "    accuracy                           0.96     15701\n",
      "   macro avg       0.96      0.96      0.96     15701\n",
      "weighted avg       0.96      0.96      0.96     15701\n",
      "\n"
     ]
    },
    {
     "data": {
      "image/png": "[encoded data removed]",
      "text/plain": [
       "<Figure size 432x288 with 1 Axes>"
      ]
     },
     "metadata": {
      "needs_background": "light"
     },
     "output_type": "display_data"
    }
   ],
   "source": [
    "print(\" CNB - Count VECTORIZER\\n\")\n",
    "map_cnb_2=confusion_matrix(Y_test_c, pred_cnb_2)\n",
    "print(classification_report(Y_test_c, pred_cnb_2))\n",
    "sns.heatmap(map_cnb_2, square=True, annot=True, cbar=False, fmt='')\n",
    "plt.xlabel('predicted value')\n",
    "plt.ylabel('true value');"
   ]
  },
  {
   "cell_type": "markdown",
   "id": "KtBeavLRKvma",
   "metadata": {
    "id": "KtBeavLRKvma"
   },
   "source": [
    "<h4>V - Neural Network</h4>"
   ]
  },
  {
   "cell_type": "code",
   "execution_count": null,
   "id": "Yq9-sCYt-K9I",
   "metadata": {
    "colab": {
     "base_uri": "https://localhost:8080/"
    },
    "id": "Yq9-sCYt-K9I",
    "outputId": "4e9326bb-e312-4211-f478-5305e3eeb322"
   },
   "outputs": [
    {
     "name": "stdout",
     "output_type": "stream",
     "text": [
      "TfIdf Vectorizer - Neural Network: 0.5204127125660786\n",
      "Count Vectorizer - Neural Network: 0.9864976753073053\n"
     ]
    }
   ],
   "source": [
    "from sklearn.neural_network import MLPClassifier\n",
    "model14 = MLPClassifier(solver='lbfgs', alpha=1e-5, hidden_layer_sizes=(5, 2), random_state=1)\n",
    "model14.fit(X_train, Y_train)\n",
    "pred14 = model14.predict(X_test)\n",
    "\n",
    "model15 = MLPClassifier(solver='lbfgs', alpha=1e-5, hidden_layer_sizes=(5, 2), random_state=1)\n",
    "model15.fit(X_train_c, Y_train_c)\n",
    "pred15 = model15.predict(X_test_c)\n",
    "\n",
    "print(\"TfIdf Vectorizer - Neural Network:\",accuracy_score(Y_test,pred14))\n",
    "print(\"Count Vectorizer - Neural Network:\",accuracy_score(Y_test_c,pred15))"
   ]
  },
  {
   "cell_type": "code",
   "execution_count": null,
   "id": "-iaB1QyifPbG",
   "metadata": {
    "colab": {
     "base_uri": "https://localhost:8080/",
     "height": 594
    },
    "id": "-iaB1QyifPbG",
    "outputId": "1a164794-bc27-40bc-f860-68ca364bbfae"
   },
   "outputs": [
    {
     "name": "stdout",
     "output_type": "stream",
     "text": [
      " NN - tfIdf VECTORIZER\n",
      "\n",
      "              precision    recall  f1-score   support\n",
      "\n",
      "           0       0.52      1.00      0.68      8171\n",
      "           1       0.00      0.00      0.00      7530\n",
      "\n",
      "    accuracy                           0.52     15701\n",
      "   macro avg       0.26      0.50      0.34     15701\n",
      "weighted avg       0.27      0.52      0.36     15701\n",
      "\n"
     ]
    },
    {
     "name": "stderr",
     "output_type": "stream",
     "text": [
      "/usr/local/lib/python3.7/dist-packages/sklearn/metrics/_classification.py:1308: UndefinedMetricWarning: Precision and F-score are ill-defined and being set to 0.0 in labels with no predicted samples. Use `zero_division` parameter to control this behavior.\n",
      "  _warn_prf(average, modifier, msg_start, len(result))\n",
      "/usr/local/lib/python3.7/dist-packages/sklearn/metrics/_classification.py:1308: UndefinedMetricWarning: Precision and F-score are ill-defined and being set to 0.0 in labels with no predicted samples. Use `zero_division` parameter to control this behavior.\n",
      "  _warn_prf(average, modifier, msg_start, len(result))\n",
      "/usr/local/lib/python3.7/dist-packages/sklearn/metrics/_classification.py:1308: UndefinedMetricWarning: Precision and F-score are ill-defined and being set to 0.0 in labels with no predicted samples. Use `zero_division` parameter to control this behavior.\n",
      "  _warn_prf(average, modifier, msg_start, len(result))\n"
     ]
    },
    {
     "data": {
      "image/png": "[encoded data removed]",
      "text/plain": [
       "<Figure size 432x288 with 1 Axes>"
      ]
     },
     "metadata": {
      "needs_background": "light"
     },
     "output_type": "display_data"
    }
   ],
   "source": [
    "print(\" NN - tfIdf VECTORIZER\\n\")\n",
    "map_nn=confusion_matrix(Y_test, pred14)\n",
    "print(classification_report(Y_test, pred14))\n",
    "sns.heatmap(map_nn, square=True, annot=True, cbar=False, fmt='')\n",
    "plt.xlabel('predicted value')\n",
    "plt.ylabel('true value');"
   ]
  },
  {
   "cell_type": "code",
   "execution_count": null,
   "id": "HwCu0Nh8iLJ8",
   "metadata": {
    "colab": {
     "base_uri": "https://localhost:8080/",
     "height": 470
    },
    "id": "HwCu0Nh8iLJ8",
    "outputId": "648f7319-e231-4200-8234-1115864244a2"
   },
   "outputs": [
    {
     "name": "stdout",
     "output_type": "stream",
     "text": [
      " NN - Count VECTORIZER\n",
      "\n",
      "              precision    recall  f1-score   support\n",
      "\n",
      "           0       0.99      0.98      0.99      8171\n",
      "           1       0.98      0.99      0.99      7530\n",
      "\n",
      "    accuracy                           0.99     15701\n",
      "   macro avg       0.99      0.99      0.99     15701\n",
      "weighted avg       0.99      0.99      0.99     15701\n",
      "\n"
     ]
    },
    {
     "data": {
      "image/png": "[encoded data removed]",
      "text/plain": [
       "<Figure size 432x288 with 1 Axes>"
      ]
     },
     "metadata": {
      "needs_background": "light"
     },
     "output_type": "display_data"
    }
   ],
   "source": [
    "print(\" NN - Count VECTORIZER\\n\")\n",
    "map_nn=confusion_matrix(Y_test_c, pred15)\n",
    "print(classification_report(Y_test_c, pred15))\n",
    "sns.heatmap(map_nn, square=True, annot=True, cbar=False, fmt='')\n",
    "plt.xlabel('predicted value')\n",
    "plt.ylabel('true value');"
   ]
  }
 ],
 "metadata": {
  "colab": {
   "collapsed_sections": [],
   "name": "Final 489 - Fake News Detection - 1:1",
   "provenance": []
  },
  "kernelspec": {
   "display_name": "Python 3 (ipykernel)",
   "language": "python",
   "name": "python3"
  },
  "language_info": {
   "codemirror_mode": {
    "name": "ipython",
    "version": 3
   },
   "file_extension": ".py",
   "mimetype": "text/x-python",
   "name": "python",
   "nbconvert_exporter": "python",
   "pygments_lexer": "ipython3",
   "version": "3.9.6"
  }
 },
 "nbformat": 4,
 "nbformat_minor": 5
}
